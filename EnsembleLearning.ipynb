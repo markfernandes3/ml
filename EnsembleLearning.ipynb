{
  "nbformat": 4,
  "nbformat_minor": 0,
  "metadata": {
    "colab": {
      "provenance": []
    },
    "kernelspec": {
      "name": "python3",
      "display_name": "Python 3"
    },
    "language_info": {
      "name": "python"
    }
  },
  "cells": [
    {
      "cell_type": "code",
      "execution_count": 1,
      "metadata": {
        "colab": {
          "base_uri": "https://localhost:8080/"
        },
        "id": "rvAV5zkrt0oI",
        "outputId": "2d092046-1326-40e2-afdc-6ad1114e6eaa"
      },
      "outputs": [
        {
          "output_type": "stream",
          "name": "stdout",
          "text": [
            "Requirement already satisfied: scikit-learn in /usr/local/lib/python3.10/dist-packages (1.2.2)\n",
            "Requirement already satisfied: numpy>=1.17.3 in /usr/local/lib/python3.10/dist-packages (from scikit-learn) (1.23.5)\n",
            "Requirement already satisfied: scipy>=1.3.2 in /usr/local/lib/python3.10/dist-packages (from scikit-learn) (1.11.3)\n",
            "Requirement already satisfied: joblib>=1.1.1 in /usr/local/lib/python3.10/dist-packages (from scikit-learn) (1.3.2)\n",
            "Requirement already satisfied: threadpoolctl>=2.0.0 in /usr/local/lib/python3.10/dist-packages (from scikit-learn) (3.2.0)\n"
          ]
        }
      ],
      "source": [
        "pip install scikit-learn"
      ]
    },
    {
      "cell_type": "code",
      "source": [
        "import numpy as np\n",
        "from sklearn.datasets import load_breast_cancer\n",
        "from sklearn.model_selection import train_test_split\n",
        "from sklearn.ensemble import RandomForestClassifier, AdaBoostClassifier, GradientBoostingClassifier, VotingClassifier\n",
        "from sklearn.metrics import accuracy_score"
      ],
      "metadata": {
        "id": "v9ZgTTFft50o"
      },
      "execution_count": 2,
      "outputs": []
    },
    {
      "cell_type": "code",
      "source": [
        "# Load the breast cancer dataset\n",
        "data = load_breast_cancer()\n",
        "\n",
        "X = data.data\n",
        "y = data.target"
      ],
      "metadata": {
        "id": "goJjX_-At8Kw"
      },
      "execution_count": 3,
      "outputs": []
    },
    {
      "cell_type": "code",
      "source": [
        "# Split the dataset into training and testing sets\n",
        "X_train, X_test, y_train, y_test = train_test_split(X, y, test_size=0.2, random_state=42)"
      ],
      "metadata": {
        "id": "cDeWHD01t-8P"
      },
      "execution_count": 4,
      "outputs": []
    },
    {
      "cell_type": "code",
      "source": [
        "# Random Forest Classifier\n",
        "rf_model = RandomForestClassifier(n_estimators=100, random_state=42)\n",
        "rf_model.fit(X_train, y_train)\n",
        "rf_pred = rf_model.predict(X_test)\n",
        "rf_accuracy = accuracy_score (y_test, rf_pred)\n",
        "print (f\"Random Forest Accuracy: {rf_accuracy:.2f}\")"
      ],
      "metadata": {
        "colab": {
          "base_uri": "https://localhost:8080/"
        },
        "id": "6wwd5LoLvaL3",
        "outputId": "0fbd939c-4192-4be4-d1ea-00c7b4eb4073"
      },
      "execution_count": 5,
      "outputs": [
        {
          "output_type": "stream",
          "name": "stdout",
          "text": [
            "Random Forest Accuracy: 0.96\n"
          ]
        }
      ]
    },
    {
      "cell_type": "code",
      "source": [
        "# AdaBoost Classifier\n",
        "adaboost_model = AdaBoostClassifier(n_estimators=100, random_state=42)\n",
        "adaboost_model.fit(X_train, y_train)\n",
        "adaboost_pred = adaboost_model.predict(X_test)\n",
        "adaboost_accuracy = accuracy_score (y_test, adaboost_pred)\n",
        "print(f\"AdaBoost Accuracy: {adaboost_accuracy:.2f}\")"
      ],
      "metadata": {
        "colab": {
          "base_uri": "https://localhost:8080/"
        },
        "id": "sEk-xUJGvqGL",
        "outputId": "c761b185-61c7-430a-844e-f8dc40dec7f0"
      },
      "execution_count": 6,
      "outputs": [
        {
          "output_type": "stream",
          "name": "stdout",
          "text": [
            "AdaBoost Accuracy: 0.97\n"
          ]
        }
      ]
    },
    {
      "cell_type": "code",
      "source": [
        "# Gradient Boosting Classifier\n",
        "gradientboost_model = GradientBoostingClassifier (n_estimators=100, random_state=42)\n",
        "gradientboost_model.fit(X_train, y_train)\n",
        "gradientboost_pred = gradientboost_model.predict(X_test)\n",
        "gradientboost_accuracy = accuracy_score (y_test, gradientboost_pred)\n",
        "print (f\"Gradient Boosting Accuracy: {gradientboost_accuracy:.2f}\")"
      ],
      "metadata": {
        "colab": {
          "base_uri": "https://localhost:8080/"
        },
        "id": "ypYxktCnv3kI",
        "outputId": "992562dd-bee9-4a7e-fcf6-97e950b84f7e"
      },
      "execution_count": 7,
      "outputs": [
        {
          "output_type": "stream",
          "name": "stdout",
          "text": [
            "Gradient Boosting Accuracy: 0.96\n"
          ]
        }
      ]
    },
    {
      "cell_type": "code",
      "source": [
        "# Create a Voting Classifier with the three models\n",
        "voting_classifier = VotingClassifier(estimators=[\n",
        "    ('Random Forest', rf_model),\n",
        "    ('AdaBoost', adaboost_model),\n",
        "    ('Gradient Boosting', gradientboost_model)\n",
        "], voting='hard')  # 'hard' for majority vote\n",
        "\n",
        "# Fit the Voting Classifier on the training data\n",
        "voting_classifier.fit(X_train, y_train)\n",
        "\n",
        "# Make predictions using the Voting Classifier\n",
        "voting_pred = voting_classifier.predict(X_test)\n",
        "\n",
        "# Calculate accuracy\n",
        "voting_accuracy = accuracy_score(y_test, voting_pred)\n",
        "print(f\"Voting Classifier Accuracy: {voting_accuracy:.2f}\")"
      ],
      "metadata": {
        "colab": {
          "base_uri": "https://localhost:8080/"
        },
        "id": "BMNWgHw1OSCe",
        "outputId": "f49e840d-f058-4dab-d31c-2d8d26cc415f"
      },
      "execution_count": 8,
      "outputs": [
        {
          "output_type": "stream",
          "name": "stdout",
          "text": [
            "Voting Classifier Accuracy: 0.96\n"
          ]
        }
      ]
    }
  ]
}